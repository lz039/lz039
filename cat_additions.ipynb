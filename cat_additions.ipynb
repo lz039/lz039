{
 "cells": [
  {
   "cell_type": "markdown",
   "metadata": {},
   "source": [
    "# Additional remarks\n",
    "\n",
    "## Metrics\n",
    "In the slides we use the macro-average for precision, recall, f1-score and accuracy\n",
    "\n",
    "These are the scores for match:\n",
    "\n",
    "| type | precision | recall | f1-score | accuracy |\n",
    "| --| ----------|--------|----------|----------|\n",
    "| f_1 | 0 | 0 | 0 | 0.84 |\n",
    "| m_1 | 0.48 | 0.12 | 0.19 | 0.82 |\n",
    "| f_2 | 0.28 | 0.76 | 0.41 | 0.66 |\n",
    "| m_2 | 0.34 | 0.68 | 0.46 | 0.71 |\n",
    "| f_3 | 0.59 | 0.19 | 0.28 | 0.85 |\n",
    "| m_3 | 0.56 | 0.12 | 0.20 | 0.83 |\n",
    "\n",
    "## Weighted classes\n",
    "The proportion of 4499 (no matches) to all obervations is the weight for the match class -> inverse\n",
    "\n",
    "## Conclutions\n",
    "Instead of If you don't like dating => if you like dating, you should use the weighted model, as we suggest a lot of matches but only 1/3 (even less for woman) of them are a real match.<br>\n",
    "We have a high precision but low recall. This also means you don't miss a lot of real matches.\n",
    "\n",
    "On the other side if you only want to have some dates and don't care that you don't meet most of the matches, take the third model.\n",
    "\n",
    "The first model is pretty useless."
   ]
  }
 ],
 "metadata": {
  "kernelspec": {
   "display_name": "Python 3.9.13 ('base')",
   "language": "python",
   "name": "python3"
  },
  "language_info": {
   "name": "python",
   "version": "3.9.13"
  },
  "orig_nbformat": 4,
  "vscode": {
   "interpreter": {
    "hash": "1335a209088fba08ed1ec7ee6e9c6b845cf55524ee893ab338ddd70a4ed03024"
   }
  }
 },
 "nbformat": 4,
 "nbformat_minor": 2
}
