{
 "cells": [
  {
   "attachments": {},
   "cell_type": "markdown",
   "metadata": {},
   "source": [
    "## Data driven project steps "
   ]
  },
  {
   "attachments": {},
   "cell_type": "markdown",
   "metadata": {},
   "source": [
    "### Import & tidy\n",
    "\n",
    "- 70-80% of time for import and tidy of data\n",
    "- good documentation is required\n",
    "\n",
    "Data bricks -> Data lake:\n",
    "- raw data\n",
    "- first step (bronze)\n",
    "- further processing (silver) \n",
    "- use for models (gold)\n",
    "\n"
   ]
  },
  {
   "attachments": {},
   "cell_type": "markdown",
   "metadata": {},
   "source": [
    "### Transform\n",
    "\n",
    "- what are important features -> literature search\n",
    "- descriptive statistics\n",
    "- feature engineering: new or merge features?\n",
    "- forward / backward selection\n",
    "\n",
    "### Visualize\n",
    "\n",
    "For categorical variables:\n",
    "- heat map (use size or alpha)\n",
    "- histogram boxplots\n",
    "\n",
    "Check correlation, multicollinearity (are two or more variables correlated? check values above 5 (10 is very bad)), VIF"
   ]
  },
  {
   "attachments": {},
   "cell_type": "markdown",
   "metadata": {},
   "source": [
    "### Model\n",
    "\n",
    "- train-test split\n",
    "- cross validation (splits should not vary much)\n",
    "\n",
    "**Regression metrics**:\n",
    "- MSE, RMSE: baseline? for regression use mean\n",
    "- R² / adjusted R²: % of variability of the data\n",
    "- keep features on a low number (overfitting, too complex)\n",
    "- often lasso regression is used\n",
    "\n",
    "**Coefficients**:\n",
    "- Z-transformation to make it comparable\n",
    "- depends on the value of the feature\n",
    "- intercept\n",
    "\n",
    "(P-value)\n",
    "\n",
    "**Analyse**:\n",
    "- Check which models perform best (e.g. 10 models)\n",
    "- for best five models, where do they do errors?\n",
    "- **Residual plot**: compare model result to target\n",
    "- Are there any outliers?"
   ]
  },
  {
   "cell_type": "markdown",
   "metadata": {},
   "source": []
  },
  {
   "cell_type": "markdown",
   "metadata": {},
   "source": []
  },
  {
   "cell_type": "markdown",
   "metadata": {},
   "source": []
  },
  {
   "cell_type": "markdown",
   "metadata": {},
   "source": []
  }
 ],
 "metadata": {
  "kernelspec": {
   "display_name": "Python 3.9.7",
   "language": "python",
   "name": "python3"
  },
  "language_info": {
   "name": "python",
   "version": "3.9.7"
  },
  "orig_nbformat": 4,
  "vscode": {
   "interpreter": {
    "hash": "2d3ce761e662136f3437c78db25d7ff357181c01a7fda7800aadcb0835f64295"
   }
  }
 },
 "nbformat": 4,
 "nbformat_minor": 2
}
